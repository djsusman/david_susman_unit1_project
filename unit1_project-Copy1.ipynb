{
 "cells": [
  {
   "cell_type": "markdown",
   "metadata": {},
   "source": [
    "<img src=\"http://imgur.com/1ZcRyrc.png\" style=\"float: left; margin: 20px; height: 55px\">\n",
    "\n",
    "# Project 1: Python Coding Exercises\n",
    "\n",
    "_Authors: Joseph Nelson (DC) _\n",
    "\n",
    "---"
   ]
  },
  {
   "cell_type": "markdown",
   "metadata": {},
   "source": [
    "The following code challenges are drawn from common exercises used in technical interviews.\n",
    "\n",
    "Please note that there may be several ways to approach each challenge. If you get stuck, try mapping out your approach in pseudocode first. Finally, while solutions to problems like these may be found online, remember that if you copy/paste code that you can't explain, you'll be missing out on the point of the project. The only way to truly learn a new skill is through practice, trial, and error - we can only help you improve by understanding where you are having trouble."
   ]
  },
  {
   "cell_type": "markdown",
   "metadata": {},
   "source": [
    "### Challenge 1: Largest Palindrome\n",
    "A palindromic number reads the same both ways. For example, 1234321 is a palindrome. The largest palindrome made from the product of two two-digit numbers is 9009 = 91 × 99. Find the largest palindrome made from the product of two three-digit numbers. Afterward, write a brief explanation walking through your code's logic in markdown."
   ]
  },
  {
   "cell_type": "code",
   "execution_count": 1,
   "metadata": {},
   "outputs": [
    {
     "name": "stdout",
     "output_type": "stream",
     "text": [
      "906609\n"
     ]
    }
   ],
   "source": [
    "palindromic_num = 0\n",
    "\n",
    "for x in range(999, 100, -1):\n",
    "    for y in range(x, 100, -1):\n",
    "        largest_palindromic_num = x * y\n",
    "        if largest_palindromic_num > palindromic_num:\n",
    "            num_as_string = str(x * y)\n",
    "            if num_as_string == num_as_string[::-1]:\n",
    "                palindromic_num = x * y\n",
    "                \n",
    "print(palindromic_num)"
   ]
  },
  {
   "cell_type": "markdown",
   "metadata": {},
   "source": [
    "Being that I am searching for two 3 digit numbers I first need to define my range as an integer between 100 and 999. I specify that I am not only looking for a palindromic number, but the largest plaindromic number based on the product of my range. From there the only way I was able to figure out with python to see if a integer is palindromic was to convert it into a string, where I would compare the string of the int to its inverse string. Finally I printed the product of the two 3 digit numbers."
   ]
  },
  {
   "cell_type": "markdown",
   "metadata": {},
   "source": [
    "\n",
    "### Challenge 2: Summation of Primes\n",
    "The sum of the primes below 10 is 2 + 3 + 5 + 7 = 17. Find the sum of all the primes below 2,000. Afterward, write a brief explanation walking through your code's logic in markdown."
   ]
  },
  {
   "cell_type": "code",
   "execution_count": 2,
   "metadata": {
    "scrolled": true
   },
   "outputs": [
    {
     "name": "stdout",
     "output_type": "stream",
     "text": [
      "277050\n"
     ]
    }
   ],
   "source": [
    "prime_numbers = []\n",
    "\n",
    "for num in range(2, 2001):\n",
    "    prime = True\n",
    "    for i in range(2, num):\n",
    "        if (num % i == 0):\n",
    "            prime = False\n",
    "    if prime:\n",
    "        prime_numbers.append(num)\n",
    "        \n",
    "print(sum(prime_numbers))"
   ]
  },
  {
   "cell_type": "markdown",
   "metadata": {},
   "source": [
    "I first created an open list where the prime numbers would be added to. Set my for loop range for numbers between 2 (since 1 is not a prime number) and n+1, which in this case is 2000. From there I assumes all numbers are prime in my range unless the  number in the range is not divisiable by an integer to where the remander of the devision is 0, which makes it not prime. Finally I add the sum of my list I appended all the prime numbers to together to get the answer."
   ]
  },
  {
   "cell_type": "markdown",
   "metadata": {},
   "source": [
    "### Challenge 3: Multiples of 3 and 5\n",
    "If we list all of the natural numbers below 10 that are multiples of 3 or 5, we get 3, 5, 6, and 9. The sum of these multiples is 23. Find the sum of all the multiples of 3 or 5 below 1,000. Afterward, write a brief explanation walking through your code's logic in markdown."
   ]
  },
  {
   "cell_type": "code",
   "execution_count": 3,
   "metadata": {},
   "outputs": [
    {
     "name": "stdout",
     "output_type": "stream",
     "text": [
      "234168\n"
     ]
    }
   ],
   "source": [
    "multiples = []\n",
    "\n",
    "for num in range(1,1001):\n",
    "    if num % 3 == 0 or num % 5 == 0:\n",
    "        multiples.append(num)\n",
    "\n",
    "print(sum(multiples))"
   ]
  },
  {
   "cell_type": "markdown",
   "metadata": {},
   "source": [
    "Simplar to the previous question I created an open list. Firstly I am looking at numbers in my range, from 1 to 1001 (n + 1). My condition states that if a number in my range is divisable by 3 or 5 without a remander then append it to my list. From there once the loop has gone through all numbers in the range and compiled the list, to print the sum of all the numbers in the list. "
   ]
  },
  {
   "cell_type": "markdown",
   "metadata": {},
   "source": [
    "### Challenge 4: String Compressor\n",
    "Implement a method to perform basic string compression using the counts of repeated characters. (This is called run-length encoding.) For example, the string \"aabcccccaaa\" would become a2b1c5a3. If the “compressed” string would not become smaller than the original string, your method should return the original string. You can assume the string has only uppercase and lowercase letters (a–z). Specify whether your solution is case sensitive or case insensitive and what you would need to change to make it the other. Afterward, write a brief explanation walking through your code's logic in markdown."
   ]
  },
  {
   "cell_type": "code",
   "execution_count": 4,
   "metadata": {},
   "outputs": [],
   "source": [
    "def string_compressor(string):\n",
    "    compressed_string = \"\"\n",
    "    count_character = \"\"\n",
    "    count = 0\n",
    "    \n",
    "    for character in string:\n",
    "        if character == count_character:\n",
    "            count += 1\n",
    "        else:\n",
    "            if count > 0:\n",
    "                compressed_string += count_character + str(count)\n",
    "            count_character = character\n",
    "            count = 1\n",
    "    compressed_string += count_character + str(count)\n",
    "    \n",
    "    if len(compressed_string) < len(string):\n",
    "        return compressed_string\n",
    "    else:\n",
    "        return string"
   ]
  },
  {
   "cell_type": "markdown",
   "metadata": {},
   "source": [
    "To be upfront I had a lot of trouble with this question and need help in defining character case issues! Firstly I created my empty strings. Then I worked through creating the character followed by the count of character based on the sequence of characters follwed in the string. Finally if the length of the compressed sting is less then the length of the string itself then return the compressed string, but if not then return the string itself.From my testing my code is case sensitive and I am not sure how to make it case insensitve unfortunatly."
   ]
  },
  {
   "cell_type": "markdown",
   "metadata": {},
   "source": [
    "### Challenge 5: FizzBuzz\n",
    "\n",
    "Write a program that prints all of the numbers from 1 to 100. For multiples of 3, instead of the number, print \"Fizz;\" for multiples of 5, print \"Buzz.\" For numbers that are multiples of both 3 and 5, print \"FizzBuzz.\" Afterward, write a brief explanation walking through your code's logic in markdown."
   ]
  },
  {
   "cell_type": "code",
   "execution_count": 5,
   "metadata": {},
   "outputs": [
    {
     "name": "stdout",
     "output_type": "stream",
     "text": [
      "1\n",
      "2\n",
      "fizz\n",
      "4\n",
      "buzz\n",
      "fizz\n",
      "7\n",
      "8\n",
      "fizz\n",
      "buzz\n",
      "11\n",
      "fizz\n",
      "13\n",
      "14\n",
      "fizzbuzz\n",
      "16\n",
      "17\n",
      "fizz\n",
      "19\n",
      "buzz\n",
      "fizz\n",
      "22\n",
      "23\n",
      "fizz\n",
      "buzz\n",
      "26\n",
      "fizz\n",
      "28\n",
      "29\n",
      "fizzbuzz\n",
      "31\n",
      "32\n",
      "fizz\n",
      "34\n",
      "buzz\n",
      "fizz\n",
      "37\n",
      "38\n",
      "fizz\n",
      "buzz\n",
      "41\n",
      "fizz\n",
      "43\n",
      "44\n",
      "fizzbuzz\n",
      "46\n",
      "47\n",
      "fizz\n",
      "49\n",
      "buzz\n",
      "fizz\n",
      "52\n",
      "53\n",
      "fizz\n",
      "buzz\n",
      "56\n",
      "fizz\n",
      "58\n",
      "59\n",
      "fizzbuzz\n",
      "61\n",
      "62\n",
      "fizz\n",
      "64\n",
      "buzz\n",
      "fizz\n",
      "67\n",
      "68\n",
      "fizz\n",
      "buzz\n",
      "71\n",
      "fizz\n",
      "73\n",
      "74\n",
      "fizzbuzz\n",
      "76\n",
      "77\n",
      "fizz\n",
      "79\n",
      "buzz\n",
      "fizz\n",
      "82\n",
      "83\n",
      "fizz\n",
      "buzz\n",
      "86\n",
      "fizz\n",
      "88\n",
      "89\n",
      "fizzbuzz\n",
      "91\n",
      "92\n",
      "fizz\n",
      "94\n",
      "buzz\n",
      "fizz\n",
      "97\n",
      "98\n",
      "fizz\n",
      "buzz\n"
     ]
    }
   ],
   "source": [
    "for num in range(1, 101):\n",
    "    if (num % 3 == 0) and (num % 5 == 0):\n",
    "        print('fizzbuzz')\n",
    "    elif (num % 3 == 0):\n",
    "        print('fizz')\n",
    "    elif (num % 5 == 0):\n",
    "        print('buzz')\n",
    "    else:\n",
    "        print(num)"
   ]
  },
  {
   "cell_type": "markdown",
   "metadata": {},
   "source": [
    "I set my loop range from 1 to 101 (n+1). Being that there are multiple expressions my first loop checks if the number be divisible by both 3 and 5. From there if that if statement is not true the following two elif statments caputure if the number is divisable by either 3 or 5 and prints fizz or buzz accordingly. Finally if the number does not meet any of the if/elif conditions the else statement prints just the number."
   ]
  }
 ],
 "metadata": {
  "anaconda-cloud": {},
  "kernelspec": {
   "display_name": "Python 3",
   "language": "python",
   "name": "python3"
  },
  "language_info": {
   "codemirror_mode": {
    "name": "ipython",
    "version": 3
   },
   "file_extension": ".py",
   "mimetype": "text/x-python",
   "name": "python",
   "nbconvert_exporter": "python",
   "pygments_lexer": "ipython3",
   "version": "3.6.5"
  }
 },
 "nbformat": 4,
 "nbformat_minor": 2
}
